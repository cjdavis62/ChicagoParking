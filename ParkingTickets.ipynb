{
 "cells": [
  {
   "cell_type": "code",
   "execution_count": 189,
   "metadata": {},
   "outputs": [],
   "source": [
    "import pandas as pd\n",
    "import matplotlib.pyplot as plt\n",
    "from scipy.stats import mode"
   ]
  },
  {
   "cell_type": "code",
   "execution_count": 106,
   "metadata": {},
   "outputs": [],
   "source": [
    "Tickets= pd.read_csv(\"/home/cjdavis/Downloads/il_parking_tickets_20180822/data/processed/parking_tickets.csv\", nrows = 1e6)"
   ]
  },
  {
   "cell_type": "code",
   "execution_count": 167,
   "metadata": {},
   "outputs": [],
   "source": [
    "def get_location_on_street(row):\n",
    "    street_location = row[\"violation_location\"].split(\" \")\n",
    "    if street_location[0] == \"\":\n",
    "        street_location[0] = 0\n",
    "    return int(street_location[0])\n",
    "def get_street_name(row):\n",
    "    street_name_list = row[\"violation_location\"].split(\" \")\n",
    "    street_name = \" \".join(street_name_list[1:])\n",
    "    return street_name\n",
    "def get_block_number(row):\n",
    "    block_number = row[\"address\"].split(\" \")\n",
    "    try:\n",
    "        block = int(block_number[0])\n",
    "    except ValueError:\n",
    "        block = 0\n",
    "    return block"
   ]
  },
  {
   "cell_type": "code",
   "execution_count": 168,
   "metadata": {},
   "outputs": [],
   "source": [
    "def has_parked_standing(row):\n",
    "    flag = 0\n",
    "    violation_description = row[\"violation_description\"].split(\" \")\n",
    "    parked_standing = [\"PARKING\", \"STANDING\", \"PARKED/STANDING\", \"PARKING/STANDING\"]\n",
    "    if any(part in violation_description for part in parked_standing):\n",
    "        flag = 1\n",
    "    return flag\n",
    "def has_expired_meter(row):\n",
    "    flag = 0\n",
    "    violation_description = row[\"violation_description\"].split(\" \")\n",
    "    expired_meter = [\"METER\"]\n",
    "    if any(part in violation_description for part in expired_meter):\n",
    "        flag = 1\n",
    "    return flag"
   ]
  },
  {
   "cell_type": "code",
   "execution_count": 169,
   "metadata": {},
   "outputs": [
    {
     "data": {
      "text/html": [
       "<div>\n",
       "<style scoped>\n",
       "    .dataframe tbody tr th:only-of-type {\n",
       "        vertical-align: middle;\n",
       "    }\n",
       "\n",
       "    .dataframe tbody tr th {\n",
       "        vertical-align: top;\n",
       "    }\n",
       "\n",
       "    .dataframe thead th {\n",
       "        text-align: right;\n",
       "    }\n",
       "</style>\n",
       "<table border=\"1\" class=\"dataframe\">\n",
       "  <thead>\n",
       "    <tr style=\"text-align: right;\">\n",
       "      <th></th>\n",
       "      <th>ticket_number</th>\n",
       "      <th>issue_date</th>\n",
       "      <th>violation_location</th>\n",
       "      <th>license_plate_number</th>\n",
       "      <th>license_plate_state</th>\n",
       "      <th>license_plate_type</th>\n",
       "      <th>zipcode</th>\n",
       "      <th>violation_code</th>\n",
       "      <th>violation_description</th>\n",
       "      <th>unit</th>\n",
       "      <th>...</th>\n",
       "      <th>notice_level</th>\n",
       "      <th>hearing_disposition</th>\n",
       "      <th>notice_number</th>\n",
       "      <th>officer</th>\n",
       "      <th>address</th>\n",
       "      <th>street_number</th>\n",
       "      <th>street_name</th>\n",
       "      <th>has_parked_standing</th>\n",
       "      <th>block_number</th>\n",
       "      <th>has_expired_meter</th>\n",
       "    </tr>\n",
       "  </thead>\n",
       "  <tbody>\n",
       "    <tr>\n",
       "      <th>0</th>\n",
       "      <td>51551278</td>\n",
       "      <td>2007-01-01 00:00:00</td>\n",
       "      <td>6014 W 64TH ST</td>\n",
       "      <td>90ad622c3274c9bdc9d8c812b79a01d0aaf7479f2bd743...</td>\n",
       "      <td>IL</td>\n",
       "      <td>PAS</td>\n",
       "      <td>60638</td>\n",
       "      <td>0976160F</td>\n",
       "      <td>EXPIRED PLATES OR TEMPORARY REGISTRATION</td>\n",
       "      <td>8</td>\n",
       "      <td>...</td>\n",
       "      <td>SEIZ</td>\n",
       "      <td>NaN</td>\n",
       "      <td>5048648030</td>\n",
       "      <td>15227</td>\n",
       "      <td>6000 w 64th st, chicago, il</td>\n",
       "      <td>6014</td>\n",
       "      <td>W 64TH ST</td>\n",
       "      <td>0</td>\n",
       "      <td>6000</td>\n",
       "      <td>0</td>\n",
       "    </tr>\n",
       "    <tr>\n",
       "      <th>1</th>\n",
       "      <td>51491256</td>\n",
       "      <td>2007-01-01 00:00:00</td>\n",
       "      <td>530 N MICHIGAN</td>\n",
       "      <td>bce4dc26b2c96965380cb2b838cdbb95632b7b57160612...</td>\n",
       "      <td>IL</td>\n",
       "      <td>PAS</td>\n",
       "      <td>606343801</td>\n",
       "      <td>0964150B</td>\n",
       "      <td>PARKING/STANDING PROHIBITED ANYTIME</td>\n",
       "      <td>18</td>\n",
       "      <td>...</td>\n",
       "      <td>NaN</td>\n",
       "      <td>NaN</td>\n",
       "      <td>0</td>\n",
       "      <td>18320</td>\n",
       "      <td>500 n michigan, chicago, il</td>\n",
       "      <td>530</td>\n",
       "      <td>N MICHIGAN</td>\n",
       "      <td>1</td>\n",
       "      <td>500</td>\n",
       "      <td>0</td>\n",
       "    </tr>\n",
       "    <tr>\n",
       "      <th>2</th>\n",
       "      <td>50433524</td>\n",
       "      <td>2007-01-01 00:01:00</td>\n",
       "      <td>4001 N LONG</td>\n",
       "      <td>44641e828f4d894c883c07c566063c2d99d08f2c03b3d4...</td>\n",
       "      <td>IL</td>\n",
       "      <td>PAS</td>\n",
       "      <td>60148</td>\n",
       "      <td>0976160F</td>\n",
       "      <td>EXPIRED PLATES OR TEMPORARY REGISTRATION</td>\n",
       "      <td>16</td>\n",
       "      <td>...</td>\n",
       "      <td>VIOL</td>\n",
       "      <td>NaN</td>\n",
       "      <td>5079875240</td>\n",
       "      <td>3207</td>\n",
       "      <td>4000 n long, chicago, il</td>\n",
       "      <td>4001</td>\n",
       "      <td>N LONG</td>\n",
       "      <td>0</td>\n",
       "      <td>4000</td>\n",
       "      <td>0</td>\n",
       "    </tr>\n",
       "    <tr>\n",
       "      <th>3</th>\n",
       "      <td>51430906</td>\n",
       "      <td>2007-01-01 00:01:00</td>\n",
       "      <td>303 E WACKER</td>\n",
       "      <td>eee50ca0d9be2debd0e7d45bad05b8674a6cf5b892230f...</td>\n",
       "      <td>IL</td>\n",
       "      <td>PAS</td>\n",
       "      <td>60601</td>\n",
       "      <td>0964110A</td>\n",
       "      <td>DOUBLE PARKING OR STANDING</td>\n",
       "      <td>152</td>\n",
       "      <td>...</td>\n",
       "      <td>DETR</td>\n",
       "      <td>Liable</td>\n",
       "      <td>5023379950</td>\n",
       "      <td>19410</td>\n",
       "      <td>300 e wacker, chicago, il</td>\n",
       "      <td>303</td>\n",
       "      <td>E WACKER</td>\n",
       "      <td>1</td>\n",
       "      <td>300</td>\n",
       "      <td>0</td>\n",
       "    </tr>\n",
       "    <tr>\n",
       "      <th>4</th>\n",
       "      <td>51507779</td>\n",
       "      <td>2007-01-01 00:01:00</td>\n",
       "      <td>7 E 41ST ST</td>\n",
       "      <td>244116ca3eed4235b1f61f6d753d8c688be2a48c9fdd97...</td>\n",
       "      <td>IL</td>\n",
       "      <td>PAS</td>\n",
       "      <td>605053013</td>\n",
       "      <td>0976220B</td>\n",
       "      <td>SMOKED/TINTED WINDOWS PARKED/STANDING</td>\n",
       "      <td>2</td>\n",
       "      <td>...</td>\n",
       "      <td>SEIZ</td>\n",
       "      <td>NaN</td>\n",
       "      <td>5079891400</td>\n",
       "      <td>66396</td>\n",
       "      <td>7 e 41st st, chicago, il</td>\n",
       "      <td>7</td>\n",
       "      <td>E 41ST ST</td>\n",
       "      <td>1</td>\n",
       "      <td>7</td>\n",
       "      <td>0</td>\n",
       "    </tr>\n",
       "  </tbody>\n",
       "</table>\n",
       "<p>5 rows × 28 columns</p>\n",
       "</div>"
      ],
      "text/plain": [
       "   ticket_number           issue_date violation_location  \\\n",
       "0       51551278  2007-01-01 00:00:00     6014 W 64TH ST   \n",
       "1       51491256  2007-01-01 00:00:00     530 N MICHIGAN   \n",
       "2       50433524  2007-01-01 00:01:00        4001 N LONG   \n",
       "3       51430906  2007-01-01 00:01:00       303 E WACKER   \n",
       "4       51507779  2007-01-01 00:01:00        7 E 41ST ST   \n",
       "\n",
       "                                license_plate_number license_plate_state  \\\n",
       "0  90ad622c3274c9bdc9d8c812b79a01d0aaf7479f2bd743...                  IL   \n",
       "1  bce4dc26b2c96965380cb2b838cdbb95632b7b57160612...                  IL   \n",
       "2  44641e828f4d894c883c07c566063c2d99d08f2c03b3d4...                  IL   \n",
       "3  eee50ca0d9be2debd0e7d45bad05b8674a6cf5b892230f...                  IL   \n",
       "4  244116ca3eed4235b1f61f6d753d8c688be2a48c9fdd97...                  IL   \n",
       "\n",
       "  license_plate_type    zipcode violation_code  \\\n",
       "0                PAS      60638       0976160F   \n",
       "1                PAS  606343801       0964150B   \n",
       "2                PAS      60148       0976160F   \n",
       "3                PAS      60601       0964110A   \n",
       "4                PAS  605053013       0976220B   \n",
       "\n",
       "                      violation_description unit        ...         \\\n",
       "0  EXPIRED PLATES OR TEMPORARY REGISTRATION    8        ...          \n",
       "1       PARKING/STANDING PROHIBITED ANYTIME   18        ...          \n",
       "2  EXPIRED PLATES OR TEMPORARY REGISTRATION   16        ...          \n",
       "3                DOUBLE PARKING OR STANDING  152        ...          \n",
       "4     SMOKED/TINTED WINDOWS PARKED/STANDING    2        ...          \n",
       "\n",
       "  notice_level hearing_disposition  notice_number  officer  \\\n",
       "0         SEIZ                 NaN     5048648030    15227   \n",
       "1          NaN                 NaN              0    18320   \n",
       "2         VIOL                 NaN     5079875240     3207   \n",
       "3         DETR              Liable     5023379950    19410   \n",
       "4         SEIZ                 NaN     5079891400    66396   \n",
       "\n",
       "                       address  street_number street_name has_parked_standing  \\\n",
       "0  6000 w 64th st, chicago, il           6014   W 64TH ST                   0   \n",
       "1  500 n michigan, chicago, il            530  N MICHIGAN                   1   \n",
       "2     4000 n long, chicago, il           4001      N LONG                   0   \n",
       "3    300 e wacker, chicago, il            303    E WACKER                   1   \n",
       "4     7 e 41st st, chicago, il              7   E 41ST ST                   1   \n",
       "\n",
       "  block_number has_expired_meter  \n",
       "0         6000                 0  \n",
       "1          500                 0  \n",
       "2         4000                 0  \n",
       "3          300                 0  \n",
       "4            7                 0  \n",
       "\n",
       "[5 rows x 28 columns]"
      ]
     },
     "execution_count": 169,
     "metadata": {},
     "output_type": "execute_result"
    }
   ],
   "source": [
    "Tickets[\"street_number\"] = Tickets.apply(get_location_on_street,axis=1)\n",
    "Tickets[\"street_name\"] = Tickets.apply(get_street_name, axis=1)\n",
    "Tickets[\"block_number\"] = Tickets.apply(get_block_number,axis=1)\n",
    "Tickets[\"has_parked_standing\"] = Tickets.apply(has_parked_standing, axis=1)\n",
    "Tickets[\"has_expired_meter\"] = Tickets.apply(has_expired_meter, axis=1)\n",
    "Tickets.head()"
   ]
  },
  {
   "cell_type": "code",
   "execution_count": 193,
   "metadata": {},
   "outputs": [],
   "source": [
    "ExpiredMeter_streets = Tickets.loc[Tickets[\"has_expired_meter\"] == 1 , \"street_name\"]\n",
    "NoParking_streets = Tickets.loc[Tickets[\"has_parked_standing\"] == 1 , \"street_name\"]"
   ]
  },
  {
   "cell_type": "code",
   "execution_count": 194,
   "metadata": {},
   "outputs": [
    {
     "name": "stdout",
     "output_type": "stream",
     "text": [
      "ModeResult(mode=array(['N CLARK'], dtype=object), count=array([14987]))\n",
      "ModeResult(mode=array(['N CLARK'], dtype=object), count=array([4549]))\n"
     ]
    }
   ],
   "source": [
    "print(mode(ExpiredMeter_streets))\n",
    "print(mode(NoParking_streets))"
   ]
  },
  {
   "cell_type": "code",
   "execution_count": 195,
   "metadata": {},
   "outputs": [],
   "source": [
    "NoParking_on_NClark = Tickets.loc[(Tickets[\"street_name\"] == \"N CLARK\") & (Tickets[\"has_parked_standing\"] == 1) , \"block_number\"]\n",
    "ExpiredMeter_on_NClark = Tickets.loc[(Tickets[\"street_name\"] == \"N CLARK\") & (Tickets[\"has_expired_meter\"] == 1) , \"block_number\"]"
   ]
  },
  {
   "cell_type": "code",
   "execution_count": 196,
   "metadata": {},
   "outputs": [
    {
     "name": "stdout",
     "output_type": "stream",
     "text": [
      "1128    1500\n",
      "1682    2800\n",
      "2334    1300\n",
      "4224       1\n",
      "5079    1900\n",
      "Name: block_number, dtype: int64\n",
      "5509    2600\n",
      "5513    2600\n",
      "5519    2700\n",
      "5536    2700\n",
      "5547    2700\n",
      "Name: block_number, dtype: int64\n"
     ]
    }
   ],
   "source": [
    "print(NoParking_on_NClark.head())\n",
    "print(ExpiredMeter_on_NClark.head())"
   ]
  },
  {
   "cell_type": "code",
   "execution_count": 210,
   "metadata": {},
   "outputs": [
    {
     "data": {
      "text/plain": [
       "<matplotlib.axes._subplots.AxesSubplot at 0x7f4bec82c080>"
      ]
     },
     "execution_count": 210,
     "metadata": {},
     "output_type": "execute_result"
    },
    {
     "data": {
      "image/png": "[encoded data removed]",
      "text/plain": [
       "<Figure size 1440x720 with 1 Axes>"
      ]
     },
     "metadata": {
      "needs_background": "light"
     },
     "output_type": "display_data"
    }
   ],
   "source": [
    "NoParking_on_NClark.plot.hist(bins = 100, figsize = (20,10), normed = True, range=[0, 1e4])"
   ]
  },
  {
   "cell_type": "code",
   "execution_count": 209,
   "metadata": {},
   "outputs": [
    {
     "data": {
      "text/plain": [
       "<matplotlib.axes._subplots.AxesSubplot at 0x7f4bec870048>"
      ]
     },
     "execution_count": 209,
     "metadata": {},
     "output_type": "execute_result"
    },
    {
     "data": {
      "image/png": "[encoded data removed]",
      "text/plain": [
       "<Figure size 1440x720 with 1 Axes>"
      ]
     },
     "metadata": {
      "needs_background": "light"
     },
     "output_type": "display_data"
    }
   ],
   "source": [
    "ExpiredMeter_on_NClark.plot.hist(bins = 100, figsize = (20,10), normed = True, range = [0, 1e4])"
   ]
  }
 ],
 "metadata": {
  "kernelspec": {
   "display_name": "Python 3",
   "language": "python",
   "name": "python3"
  },
  "language_info": {
   "codemirror_mode": {
    "name": "ipython",
    "version": 3
   },
   "file_extension": ".py",
   "mimetype": "text/x-python",
   "name": "python",
   "nbconvert_exporter": "python",
   "pygments_lexer": "ipython3",
   "version": "3.7.2"
  }
 },
 "nbformat": 4,
 "nbformat_minor": 2
}
